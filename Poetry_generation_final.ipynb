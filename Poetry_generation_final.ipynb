{
  "nbformat": 4,
  "nbformat_minor": 0,
  "metadata": {
    "colab": {
      "provenance": [],
      "gpuType": "T4"
    },
    "kernelspec": {
      "name": "python3",
      "display_name": "Python 3"
    },
    "language_info": {
      "name": "python"
    },
    "gpuClass": "standard",
    "accelerator": "GPU"
  },
  "cells": [
    {
      "cell_type": "code",
      "source": [
        "\n",
        "import numpy as np\n",
        "import pandas as pd\n",
        "import matplotlib.pyplot as plt\n",
        "import tensorflow as tf\n",
        "import pickle\n",
        "from tensorflow.keras.preprocessing.sequence import pad_sequences\n",
        "from tensorflow.keras.layers import Embedding,LSTM,Dense,Bidirectional\n",
        "from tensorflow.keras.preprocessing.text import Tokenizer\n",
        "from tensorflow.keras.models import Sequential\n",
        "from tensorflow.keras.optimizers import Adam\n",
        "from tensorflow.keras.callbacks import EarlyStopping"
      ],
      "metadata": {
        "id": "XvAKh8xJeZNH"
      },
      "execution_count": null,
      "outputs": []
    },
    {
      "cell_type": "markdown",
      "source": [
        "**DATASET PREPROCESSING**"
      ],
      "metadata": {
        "id": "hkUumy2lMcJO"
      }
    },
    {
      "cell_type": "markdown",
      "source": [
        "\n",
        "Getting dataset from Gutenberg dataset:\n",
        "https://github.com/aparrish/gutenberg-poetry-corpus/blob/master/quick-experiments.ipynb"
      ],
      "metadata": {
        "id": "Rpiz3QuaGenD"
      }
    },
    {
      "cell_type": "code",
      "source": [
        "!curl -O http://static.decontextualize.com/gutenberg-poetry-v001.ndjson.gz"
      ],
      "metadata": {
        "id": "v4jY4aBhGSsE"
      },
      "execution_count": null,
      "outputs": []
    },
    {
      "cell_type": "markdown",
      "source": [
        "The data set was in the following format:\n",
        "{'s': 'The Song of Hiawatha is based on the legends and stories of', 'gid': '19'}\n",
        "The dataset is cleaned and converted in to a simple text file.\n"
      ],
      "metadata": {
        "id": "MiZbhjDmJOQU"
      }
    },
    {
      "cell_type": "code",
      "source": [
        "import gzip\n",
        "import json\n",
        "import csv\n",
        "\n",
        "all_lines = []\n",
        "for line in gzip.open(\"gutenberg-poetry-v001.ndjson.gz\"):\n",
        "    all_lines.append(json.loads(line.strip()))\n",
        "\n",
        "# Specify the output file path\n",
        "output_file = \"output.csv\"\n",
        "\n",
        "# Write all_lines to a CSV file\n",
        "with open(output_file, \"w\", newline=\"\") as csvfile:\n",
        "    writer = csv.writer(csvfile)\n",
        "    writer.writerows(all_lines)\n",
        "\n",
        "# Alternatively, write all_lines to a TXT file\n",
        "Specify the output file path\n",
        "output_file = \"output.txt\"\n",
        "with open(output_file, \"w\") as txtfile:\n",
        "    for line in all_lines:\n",
        "        txtfile.write(str(line) + \"\\n\")\n",
        "\n",
        "print(f\"All lines have been stored in {output_file}.\")\n"
      ],
      "metadata": {
        "id": "KpdO7QrjGTO5"
      },
      "execution_count": null,
      "outputs": []
    },
    {
      "cell_type": "markdown",
      "source": [
        "size of the 3 million lines are reduced, and then cleaned and stored in strings_only.txt"
      ],
      "metadata": {
        "id": "DmODBHy_Kubb"
      }
    },
    {
      "cell_type": "code",
      "source": [
        "file_path = 'output.txt'\n",
        "lines_to_keep = 25000 # Specify the number of lines to keep\n",
        "\n",
        "# Read the file with the specified encoding\n",
        "with open(file_path, 'r', encoding='utf-8') as file:\n",
        "    lines = file.readlines()\n",
        "\n",
        "lines = lines[:lines_to_keep]\n",
        "\n",
        "# Write the updated lines back to the file\n",
        "with open(file_path, 'w', encoding='utf-8') as file:\n",
        "    file.writelines(lines)\n",
        "\n",
        "print(f\"Content of '{file_path}' has been reduced to {lines_to_keep} lines.\")\n",
        "import ast\n",
        "\n",
        "input_file = 'output.txt'\n",
        "output_file = 'strings_only.txt'\n",
        "\n",
        "with open(input_file, 'r') as file:\n",
        "    with open(output_file, 'w') as outfile:\n",
        "        for line in file:\n",
        "            line_dict = ast.literal_eval(line)\n",
        "            string = line_dict['s']\n",
        "            outfile.write(string + '\\n')"
      ],
      "metadata": {
        "id": "LNh9FnMXG6Pe"
      },
      "execution_count": null,
      "outputs": []
    },
    {
      "cell_type": "code",
      "execution_count": null,
      "metadata": {
        "id": "F8vtz40WeHc5"
      },
      "outputs": [],
      "source": [
        "data=open(\"strings_only.txt\").read()"
      ]
    },
    {
      "cell_type": "code",
      "source": [
        "tokenizer=Tokenizer()"
      ],
      "metadata": {
        "id": "eXRD3g2CeY6d"
      },
      "execution_count": null,
      "outputs": []
    },
    {
      "cell_type": "markdown",
      "source": [
        "Preprocesses the data by converting it to lowercase, splitting it into a list of sentences, fitting the tokenizer on the sentences, and calculates the total number of unique words in the corpus."
      ],
      "metadata": {
        "id": "UlCDw1A5MlpG"
      }
    },
    {
      "cell_type": "code",
      "source": [
        "corpus=data.lower().split(\"\\n\")\n",
        "tokenizer.fit_on_texts(corpus)\n",
        "total_words=len(tokenizer.word_index)+1"
      ],
      "metadata": {
        "id": "TFY0kDS2eZdG"
      },
      "execution_count": null,
      "outputs": []
    },
    {
      "cell_type": "markdown",
      "source": [
        "Now, take a corpus of text data and creates n-gram sequences from it using a tokenizer. It iterates through each line of text, and for each line, creates n-gram sequences by taking the first i+1 tokens, where i ranges from 1 to the length of the token list minus 1. These n-gram sequences are then appended to a list called input_sequences, which can be used for training a language model or generating new text."
      ],
      "metadata": {
        "id": "m1oGlmEZMrdO"
      }
    },
    {
      "cell_type": "code",
      "source": [
        "input_sequences=[]\n",
        "for line in corpus:\n",
        "  token_list=tokenizer.texts_to_sequences([line])[0]\n",
        "  for i in range(1,len(token_list)):\n",
        "    n_gram_sequence=token_list[:i+1]\n",
        "    input_sequences.append(n_gram_sequence)"
      ],
      "metadata": {
        "id": "Qom88kx5elHG"
      },
      "execution_count": null,
      "outputs": []
    },
    {
      "cell_type": "code",
      "source": [
        "#pad_sequences\n",
        "max_sequence_len=max([len(x) for x in input_sequences])\n",
        "input_sequences=np.array(pad_sequences(input_sequences,maxlen=max_sequence_len,padding='pre'))"
      ],
      "metadata": {
        "id": "XiwaGk6ieq3f"
      },
      "execution_count": null,
      "outputs": []
    },
    {
      "cell_type": "code",
      "source": [
        "xs,labels=input_sequences[:,:-1],input_sequences[:,-1]\n",
        "ys=tf.keras.utils.to_categorical(labels,num_classes=total_words)"
      ],
      "metadata": {
        "id": "T6Afrw_oerdy"
      },
      "execution_count": null,
      "outputs": []
    },
    {
      "cell_type": "markdown",
      "source": [
        "**MODEL BUILDING**"
      ],
      "metadata": {
        "id": "tqEf3F11MzMy"
      }
    },
    {
      "cell_type": "code",
      "source": [
        "#model_building\n",
        "from tensorflow.keras.layers import Reshape\n",
        "model=Sequential()\n",
        "model.add(Embedding(total_words,100,input_length=max_sequence_len-1))\n",
        "# model.add(Bidirectional(LSTM(150, return_sequences = True)))\n",
        "# model.add(Bidirectional(LSTM(150, return_sequences = True)))\n",
        "model.add(Bidirectional(LSTM(150)))\n",
        "model.add(Dense(total_words,activation='softmax'))\n",
        "adam=Adam(learning_rate=0.01)\n",
        "model.compile(loss='categorical_crossentropy',optimizer=adam,metrics=['accuracy'])"
      ],
      "metadata": {
        "id": "-oI2XQreervq"
      },
      "execution_count": null,
      "outputs": []
    },
    {
      "cell_type": "markdown",
      "source": [
        "**MODEL TRAINING**"
      ],
      "metadata": {
        "id": "60Zu9wZ1M2fN"
      }
    },
    {
      "cell_type": "code",
      "source": [
        "\n",
        "# early_stopping = EarlyStopping(monitor='val_loss', patience=3, restore_best_weights=True)\n",
        "\n",
        "# history = model.fit(xs, ys, epochs=50, verbose=1, validation_split=0.2, callbacks=[early_stopping])\n"
      ],
      "metadata": {
        "id": "Lo2EPI7FmpCM"
      },
      "execution_count": null,
      "outputs": []
    },
    {
      "cell_type": "code",
      "source": [
        "history=model.fit(xs,ys,epochs=15,verbose=1)"
      ],
      "metadata": {
        "id": "9eVswE08e3jY",
        "colab": {
          "base_uri": "https://localhost:8080/"
        },
        "outputId": "9a7014a0-87eb-495b-c0d5-3db88bc87777"
      },
      "execution_count": null,
      "outputs": [
        {
          "output_type": "stream",
          "name": "stdout",
          "text": [
            "Epoch 1/15\n",
            "4861/4861 [==============================] - 69s 12ms/step - loss: 7.0116 - accuracy: 0.0793\n",
            "Epoch 2/15\n",
            "4861/4861 [==============================] - 45s 9ms/step - loss: 6.1649 - accuracy: 0.1018\n",
            "Epoch 3/15\n",
            "4861/4861 [==============================] - 45s 9ms/step - loss: 5.4950 - accuracy: 0.1216\n",
            "Epoch 4/15\n",
            "4861/4861 [==============================] - 45s 9ms/step - loss: 5.1014 - accuracy: 0.1380\n",
            "Epoch 5/15\n",
            "4861/4861 [==============================] - 45s 9ms/step - loss: 4.8725 - accuracy: 0.1505\n",
            "Epoch 6/15\n",
            "4861/4861 [==============================] - 46s 9ms/step - loss: 4.7397 - accuracy: 0.1578\n",
            "Epoch 7/15\n",
            "4861/4861 [==============================] - 45s 9ms/step - loss: 4.6558 - accuracy: 0.1647\n",
            "Epoch 8/15\n",
            "4861/4861 [==============================] - 45s 9ms/step - loss: 4.5825 - accuracy: 0.1698\n",
            "Epoch 9/15\n",
            "4861/4861 [==============================] - 45s 9ms/step - loss: 4.5528 - accuracy: 0.1743\n",
            "Epoch 10/15\n",
            "4861/4861 [==============================] - 45s 9ms/step - loss: 4.5056 - accuracy: 0.1795\n",
            "Epoch 11/15\n",
            "4861/4861 [==============================] - 45s 9ms/step - loss: 4.4763 - accuracy: 0.1845\n",
            "Epoch 12/15\n",
            "4861/4861 [==============================] - 45s 9ms/step - loss: 4.4683 - accuracy: 0.1860\n",
            "Epoch 13/15\n",
            "4861/4861 [==============================] - 45s 9ms/step - loss: 4.4411 - accuracy: 0.1893\n",
            "Epoch 14/15\n",
            "4861/4861 [==============================] - 45s 9ms/step - loss: 4.4415 - accuracy: 0.1905\n",
            "Epoch 15/15\n",
            "4861/4861 [==============================] - 48s 10ms/step - loss: 4.4198 - accuracy: 0.1930\n"
          ]
        }
      ]
    },
    {
      "cell_type": "markdown",
      "source": [
        "**Model Accuracy**"
      ],
      "metadata": {
        "id": "Y1Afr4d1e6p8"
      }
    },
    {
      "cell_type": "code",
      "source": [
        "# fig = plt.figure(figsize=(6, 6))\n",
        "# plt.plot(history.history['accuracy'])\n",
        "# plt.plot(history.history['val_accuracy'])\n",
        "# plt.title(\"Model Accuracy\")\n",
        "# plt.xlabel(\"Epochs\")\n",
        "# plt.ylabel(\"Accuracy\")\n",
        "# plt.legend(['Train', 'Validation'], loc='upper left')\n",
        "# plt.show()"
      ],
      "metadata": {
        "id": "MzHSek9nrcWv"
      },
      "execution_count": null,
      "outputs": []
    },
    {
      "cell_type": "code",
      "source": [
        "fig=plt.figure(figsize=(6,6))\n",
        "plt.plot(history.history['accuracy'])\n",
        "plt.title(\"model accuracy\")\n",
        "plt.xlabel(\"epochs\")\n",
        "plt.show()"
      ],
      "metadata": {
        "id": "D4NvXNXhe8hd",
        "colab": {
          "base_uri": "https://localhost:8080/",
          "height": 564
        },
        "outputId": "3a443d7f-99e9-4ff8-9b74-acc2a88cbb11"
      },
      "execution_count": null,
      "outputs": [
        {
          "output_type": "display_data",
          "data": {
            "text/plain": [
              "<Figure size 600x600 with 1 Axes>"
            ],
            "image/png": "[encoded data removed]"
          },
          "metadata": {}
        }
      ]
    },
    {
      "cell_type": "code",
      "source": [
        "model.save('trained_model.h5')"
      ],
      "metadata": {
        "id": "GZ8QRN_Ff4in"
      },
      "execution_count": null,
      "outputs": []
    },
    {
      "cell_type": "code",
      "source": [
        "with open('trained_model.hs', 'wb') as f:\n",
        "    pickle.dump(model,f)"
      ],
      "metadata": {
        "id": "1uvUKir3e9cl"
      },
      "execution_count": null,
      "outputs": []
    },
    {
      "cell_type": "code",
      "source": [
        "seed_text = \"he who\""
      ],
      "metadata": {
        "id": "V-LIOvSwfAg5"
      },
      "execution_count": null,
      "outputs": []
    },
    {
      "cell_type": "code",
      "source": [
        "# Open the file in binary mode\n",
        "with open('trained_model.hs', 'rb') as file:\n",
        "    # Load the object from the pickle file\n",
        "    model = pickle.load(file)"
      ],
      "metadata": {
        "id": "dB00NmN2QBbY"
      },
      "execution_count": null,
      "outputs": []
    },
    {
      "cell_type": "code",
      "source": [
        "next_words=8\n",
        "for i in range(next_words):\n",
        "    token_list=tokenizer.texts_to_sequences([seed_text])[0]\n",
        "    token_list=pad_sequences([token_list],maxlen=13,padding='pre')\n",
        "    predict=model.predict(token_list)\n",
        "    classes_x=np.argmax(predict,axis=1)[0]\n",
        "    output_word=\"\"\n",
        "    for word , index in tokenizer.word_index.items():\n",
        "        if index==classes_x:\n",
        "            output_word=word\n",
        "            break\n",
        "    seed_text+=\" \"+output_word\n"
      ],
      "metadata": {
        "id": "ozUtiyR9KZjc",
        "colab": {
          "base_uri": "https://localhost:8080/"
        },
        "outputId": "f17632d4-4466-4ab7-fa76-5518e9b72b83"
      },
      "execution_count": null,
      "outputs": [
        {
          "output_type": "stream",
          "name": "stdout",
          "text": [
            "1/1 [==============================] - 1s 842ms/step\n",
            "1/1 [==============================] - 0s 21ms/step\n",
            "1/1 [==============================] - 0s 19ms/step\n",
            "1/1 [==============================] - 0s 19ms/step\n",
            "1/1 [==============================] - 0s 19ms/step\n",
            "1/1 [==============================] - 0s 26ms/step\n",
            "1/1 [==============================] - 0s 20ms/step\n",
            "1/1 [==============================] - 0s 20ms/step\n"
          ]
        }
      ]
    },
    {
      "cell_type": "code",
      "source": [
        "print(seed_text)"
      ],
      "metadata": {
        "id": "yP2XzhiFfLCd",
        "colab": {
          "base_uri": "https://localhost:8080/"
        },
        "outputId": "9b38e362-1d34-46d9-c8fc-f143524d2cac"
      },
      "execution_count": null,
      "outputs": [
        {
          "output_type": "stream",
          "name": "stdout",
          "text": [
            "he who in the water gurgle bears for thee round\n"
          ]
        }
      ]
    }
  ]
}